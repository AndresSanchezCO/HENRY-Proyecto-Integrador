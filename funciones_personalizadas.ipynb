{
 "cells": [
  {
   "attachments": {},
   "cell_type": "markdown",
   "metadata": {},
   "source": [
    "## Funciones Personalizadas\n"
   ]
  },
  {
   "cell_type": "code",
   "execution_count": 4,
   "metadata": {},
   "outputs": [],
   "source": [
    "import pandas as pd"
   ]
  },
  {
   "cell_type": "code",
   "execution_count": 7,
   "metadata": {},
   "outputs": [
    {
     "name": "stderr",
     "output_type": "stream",
     "text": [
      "/var/folders/3j/6x57938974z0qwy867642sz00000gn/T/ipykernel_3812/1604151493.py:2: UserWarning: registration of accessor <class '__main__.MyFunctionsAccessor'> under name 'funciones' for type <class 'pandas.core.frame.DataFrame'> is overriding a preexisting attribute with the same name.\n",
      "  class MyFunctionsAccessor:\n"
     ]
    }
   ],
   "source": [
    "@pd.api.extensions.register_dataframe_accessor(\"funciones\")\n",
    "class MyFunctionsAccessor:\n",
    "    def __init__(self, pandas_obj):\n",
    "        self._obj = pandas_obj\n",
    "\n",
    "    def leer_dataframe(self, ruta_archivo):\n",
    "        \"\"\"\n",
    "        Lee un archivo CSV y devuelve un DataFrame.\n",
    "\n",
    "        Argumentos:\n",
    "        - ruta_archivo: La ruta del archivo CSV a leer.\n",
    "\n",
    "        Retorna:\n",
    "        Un DataFrame con los datos del archivo CSV.\n",
    "        \"\"\"\n",
    "        try:\n",
    "            dataframe = pd.read_csv(ruta_archivo)\n",
    "            return dataframe\n",
    "        except FileNotFoundError:\n",
    "            print(\"El archivo no fue encontrado.\")\n",
    "            return None\n",
    "        except Exception as e:\n",
    "            print(f\"Ocurrió un error al leer el archivo: {e}\")\n",
    "            return None\n",
    "\n",
    "    def custom_function1(self):\n",
    "        # Tu implementación de la primera función personalizada\n",
    "        pass\n",
    "\n",
    "    def custom_function2(self):\n",
    "        # Tu implementación de la segunda función personalizada\n",
    "        pass\n",
    "    \n",
    "    def plot_histogram_with_stats(self, variable):\n",
    "        \"\"\"\n",
    "        Crea un histograma de una variable en el DataFrame y muestra estadísticas descriptivas.\n",
    "\n",
    "        Argumentos:\n",
    "        - variable: El nombre de la variable a visualizar y analizar.\n",
    "        \"\"\"\n",
    "        sns.histplot(data=self._obj, x=variable)\n",
    "\n",
    "        mean = self._obj[variable].mean()\n",
    "        median = self._obj[variable].median()\n",
    "        mode = self._obj[variable].mode().values[0]\n",
    "        quantiles = np.percentile(self._obj[variable], [25, 50, 75])\n",
    "\n",
    "        plt.axvline(mean, color='red', linestyle='--', linewidth=2, label='Mean')\n",
    "        plt.axvline(median, color='blue', linestyle='--', linewidth=2, label='Median')\n",
    "        plt.axvline(mode, color='green', linestyle='--', linewidth=2, label='Mode')\n",
    "\n",
    "        for i, quantile in enumerate(quantiles):\n",
    "            plt.axvline(quantile, color='purple', linestyle='--', linewidth=2, label=f'Quantile {i+1}')\n",
    "\n",
    "        plt.legend()\n",
    "        plt.show()\n"
   ]
  }
 ],
 "metadata": {
  "kernelspec": {
   "display_name": "Python 3",
   "language": "python",
   "name": "python3"
  },
  "language_info": {
   "codemirror_mode": {
    "name": "ipython",
    "version": 3
   },
   "file_extension": ".py",
   "mimetype": "text/x-python",
   "name": "python",
   "nbconvert_exporter": "python",
   "pygments_lexer": "ipython3",
   "version": "3.10.8"
  },
  "orig_nbformat": 4
 },
 "nbformat": 4,
 "nbformat_minor": 2
}
