{
 "cells": [
  {
   "attachments": {},
   "cell_type": "markdown",
   "metadata": {},
   "source": [
    "## Import libraries"
   ]
  },
  {
   "cell_type": "code",
   "execution_count": 105,
   "metadata": {},
   "outputs": [],
   "source": [
    "# Importar bibliotecas\n",
    "import pandas as pd\n",
    "import seaborn as sns\n",
    "import matplotlib.pyplot as plt"
   ]
  },
  {
   "attachments": {},
   "cell_type": "markdown",
   "metadata": {},
   "source": [
    "## Import custom functions"
   ]
  },
  {
   "cell_type": "code",
   "execution_count": 106,
   "metadata": {},
   "outputs": [
    {
     "name": "stderr",
     "output_type": "stream",
     "text": [
      "/var/folders/3j/6x57938974z0qwy867642sz00000gn/T/ipykernel_1913/1604151493.py:2: UserWarning: registration of accessor <class '__main__.MyFunctionsAccessor'> under name 'funciones' for type <class 'pandas.core.frame.DataFrame'> is overriding a preexisting attribute with the same name.\n",
      "  class MyFunctionsAccessor:\n"
     ]
    }
   ],
   "source": [
    "# Importar funciones personalizadas\n",
    "%run funciones_personalizadas.ipynb"
   ]
  },
  {
   "attachments": {},
   "cell_type": "markdown",
   "metadata": {},
   "source": [
    "## Load data"
   ]
  },
  {
   "attachments": {},
   "cell_type": "markdown",
   "metadata": {},
   "source": [
    "### Raw data"
   ]
  },
  {
   "cell_type": "code",
   "execution_count": 107,
   "metadata": {},
   "outputs": [
    {
     "data": {
      "text/html": [
       "<div>\n",
       "<style scoped>\n",
       "    .dataframe tbody tr th:only-of-type {\n",
       "        vertical-align: middle;\n",
       "    }\n",
       "\n",
       "    .dataframe tbody tr th {\n",
       "        vertical-align: top;\n",
       "    }\n",
       "\n",
       "    .dataframe thead th {\n",
       "        text-align: right;\n",
       "    }\n",
       "</style>\n",
       "<table border=\"1\" class=\"dataframe\">\n",
       "  <thead>\n",
       "    <tr style=\"text-align: right;\">\n",
       "      <th></th>\n",
       "      <th>Date</th>\n",
       "      <th>Open</th>\n",
       "      <th>High</th>\n",
       "      <th>Low</th>\n",
       "      <th>Close</th>\n",
       "      <th>Adj Close</th>\n",
       "      <th>Volume</th>\n",
       "    </tr>\n",
       "  </thead>\n",
       "  <tbody>\n",
       "    <tr>\n",
       "      <th>0</th>\n",
       "      <td>1980-12-12</td>\n",
       "      <td>0.128348</td>\n",
       "      <td>0.128906</td>\n",
       "      <td>0.128348</td>\n",
       "      <td>0.128348</td>\n",
       "      <td>0.099584</td>\n",
       "      <td>469033600</td>\n",
       "    </tr>\n",
       "    <tr>\n",
       "      <th>1</th>\n",
       "      <td>1980-12-15</td>\n",
       "      <td>0.122210</td>\n",
       "      <td>0.122210</td>\n",
       "      <td>0.121652</td>\n",
       "      <td>0.121652</td>\n",
       "      <td>0.094388</td>\n",
       "      <td>175884800</td>\n",
       "    </tr>\n",
       "    <tr>\n",
       "      <th>2</th>\n",
       "      <td>1980-12-16</td>\n",
       "      <td>0.113281</td>\n",
       "      <td>0.113281</td>\n",
       "      <td>0.112723</td>\n",
       "      <td>0.112723</td>\n",
       "      <td>0.087461</td>\n",
       "      <td>105728000</td>\n",
       "    </tr>\n",
       "    <tr>\n",
       "      <th>3</th>\n",
       "      <td>1980-12-17</td>\n",
       "      <td>0.115513</td>\n",
       "      <td>0.116071</td>\n",
       "      <td>0.115513</td>\n",
       "      <td>0.115513</td>\n",
       "      <td>0.089625</td>\n",
       "      <td>86441600</td>\n",
       "    </tr>\n",
       "    <tr>\n",
       "      <th>4</th>\n",
       "      <td>1980-12-18</td>\n",
       "      <td>0.118862</td>\n",
       "      <td>0.119420</td>\n",
       "      <td>0.118862</td>\n",
       "      <td>0.118862</td>\n",
       "      <td>0.092224</td>\n",
       "      <td>73449600</td>\n",
       "    </tr>\n",
       "    <tr>\n",
       "      <th>...</th>\n",
       "      <td>...</td>\n",
       "      <td>...</td>\n",
       "      <td>...</td>\n",
       "      <td>...</td>\n",
       "      <td>...</td>\n",
       "      <td>...</td>\n",
       "      <td>...</td>\n",
       "    </tr>\n",
       "    <tr>\n",
       "      <th>10717</th>\n",
       "      <td>2023-06-16</td>\n",
       "      <td>186.729996</td>\n",
       "      <td>186.990005</td>\n",
       "      <td>184.270004</td>\n",
       "      <td>184.919998</td>\n",
       "      <td>184.919998</td>\n",
       "      <td>101235600</td>\n",
       "    </tr>\n",
       "    <tr>\n",
       "      <th>10718</th>\n",
       "      <td>2023-06-20</td>\n",
       "      <td>184.410004</td>\n",
       "      <td>186.100006</td>\n",
       "      <td>184.410004</td>\n",
       "      <td>185.009995</td>\n",
       "      <td>185.009995</td>\n",
       "      <td>49799100</td>\n",
       "    </tr>\n",
       "    <tr>\n",
       "      <th>10719</th>\n",
       "      <td>2023-06-21</td>\n",
       "      <td>184.899994</td>\n",
       "      <td>185.410004</td>\n",
       "      <td>182.589996</td>\n",
       "      <td>183.960007</td>\n",
       "      <td>183.960007</td>\n",
       "      <td>49515700</td>\n",
       "    </tr>\n",
       "    <tr>\n",
       "      <th>10720</th>\n",
       "      <td>2023-06-22</td>\n",
       "      <td>183.740005</td>\n",
       "      <td>187.050003</td>\n",
       "      <td>183.669998</td>\n",
       "      <td>187.000000</td>\n",
       "      <td>187.000000</td>\n",
       "      <td>51245300</td>\n",
       "    </tr>\n",
       "    <tr>\n",
       "      <th>10721</th>\n",
       "      <td>2023-06-23</td>\n",
       "      <td>185.550003</td>\n",
       "      <td>187.559998</td>\n",
       "      <td>185.009995</td>\n",
       "      <td>186.679993</td>\n",
       "      <td>186.679993</td>\n",
       "      <td>53079300</td>\n",
       "    </tr>\n",
       "  </tbody>\n",
       "</table>\n",
       "<p>10722 rows × 7 columns</p>\n",
       "</div>"
      ],
      "text/plain": [
       "             Date        Open        High         Low       Close   Adj Close  \\\n",
       "0      1980-12-12    0.128348    0.128906    0.128348    0.128348    0.099584   \n",
       "1      1980-12-15    0.122210    0.122210    0.121652    0.121652    0.094388   \n",
       "2      1980-12-16    0.113281    0.113281    0.112723    0.112723    0.087461   \n",
       "3      1980-12-17    0.115513    0.116071    0.115513    0.115513    0.089625   \n",
       "4      1980-12-18    0.118862    0.119420    0.118862    0.118862    0.092224   \n",
       "...           ...         ...         ...         ...         ...         ...   \n",
       "10717  2023-06-16  186.729996  186.990005  184.270004  184.919998  184.919998   \n",
       "10718  2023-06-20  184.410004  186.100006  184.410004  185.009995  185.009995   \n",
       "10719  2023-06-21  184.899994  185.410004  182.589996  183.960007  183.960007   \n",
       "10720  2023-06-22  183.740005  187.050003  183.669998  187.000000  187.000000   \n",
       "10721  2023-06-23  185.550003  187.559998  185.009995  186.679993  186.679993   \n",
       "\n",
       "          Volume  \n",
       "0      469033600  \n",
       "1      175884800  \n",
       "2      105728000  \n",
       "3       86441600  \n",
       "4       73449600  \n",
       "...          ...  \n",
       "10717  101235600  \n",
       "10718   49799100  \n",
       "10719   49515700  \n",
       "10720   51245300  \n",
       "10721   53079300  \n",
       "\n",
       "[10722 rows x 7 columns]"
      ]
     },
     "execution_count": 107,
     "metadata": {},
     "output_type": "execute_result"
    }
   ],
   "source": [
    "# Cargar el conjunto de datos desde un archivo CSV\n",
    "df = pd.DataFrame().funciones.leer_dataframe('/Users/andressanchez/Desktop/Data Scientist/SoyHenry/Proyecto Integrador/Data/AAPL.csv')\n",
    "df"
   ]
  },
  {
   "attachments": {},
   "cell_type": "markdown",
   "metadata": {},
   "source": [
    "### Previously processed data"
   ]
  },
  {
   "cell_type": "code",
   "execution_count": 108,
   "metadata": {},
   "outputs": [
    {
     "data": {
      "text/html": [
       "<div>\n",
       "<style scoped>\n",
       "    .dataframe tbody tr th:only-of-type {\n",
       "        vertical-align: middle;\n",
       "    }\n",
       "\n",
       "    .dataframe tbody tr th {\n",
       "        vertical-align: top;\n",
       "    }\n",
       "\n",
       "    .dataframe thead th {\n",
       "        text-align: right;\n",
       "    }\n",
       "</style>\n",
       "<table border=\"1\" class=\"dataframe\">\n",
       "  <thead>\n",
       "    <tr style=\"text-align: right;\">\n",
       "      <th></th>\n",
       "      <th>Date</th>\n",
       "      <th>Open</th>\n",
       "      <th>High</th>\n",
       "      <th>Low</th>\n",
       "      <th>Close</th>\n",
       "      <th>Adj Close</th>\n",
       "      <th>Volume</th>\n",
       "    </tr>\n",
       "  </thead>\n",
       "  <tbody>\n",
       "    <tr>\n",
       "      <th>0</th>\n",
       "      <td>1980-12-12</td>\n",
       "      <td>0.128348</td>\n",
       "      <td>0.128906</td>\n",
       "      <td>0.128348</td>\n",
       "      <td>0.128348</td>\n",
       "      <td>0.099584</td>\n",
       "      <td>469033600</td>\n",
       "    </tr>\n",
       "    <tr>\n",
       "      <th>1</th>\n",
       "      <td>1980-12-15</td>\n",
       "      <td>0.122210</td>\n",
       "      <td>0.122210</td>\n",
       "      <td>0.121652</td>\n",
       "      <td>0.121652</td>\n",
       "      <td>0.094388</td>\n",
       "      <td>175884800</td>\n",
       "    </tr>\n",
       "    <tr>\n",
       "      <th>2</th>\n",
       "      <td>1980-12-16</td>\n",
       "      <td>0.113281</td>\n",
       "      <td>0.113281</td>\n",
       "      <td>0.112723</td>\n",
       "      <td>0.112723</td>\n",
       "      <td>0.087461</td>\n",
       "      <td>105728000</td>\n",
       "    </tr>\n",
       "    <tr>\n",
       "      <th>3</th>\n",
       "      <td>1980-12-17</td>\n",
       "      <td>0.115513</td>\n",
       "      <td>0.116071</td>\n",
       "      <td>0.115513</td>\n",
       "      <td>0.115513</td>\n",
       "      <td>0.089625</td>\n",
       "      <td>86441600</td>\n",
       "    </tr>\n",
       "    <tr>\n",
       "      <th>4</th>\n",
       "      <td>1980-12-18</td>\n",
       "      <td>0.118862</td>\n",
       "      <td>0.119420</td>\n",
       "      <td>0.118862</td>\n",
       "      <td>0.118862</td>\n",
       "      <td>0.092224</td>\n",
       "      <td>73449600</td>\n",
       "    </tr>\n",
       "    <tr>\n",
       "      <th>...</th>\n",
       "      <td>...</td>\n",
       "      <td>...</td>\n",
       "      <td>...</td>\n",
       "      <td>...</td>\n",
       "      <td>...</td>\n",
       "      <td>...</td>\n",
       "      <td>...</td>\n",
       "    </tr>\n",
       "    <tr>\n",
       "      <th>10717</th>\n",
       "      <td>2023-06-16</td>\n",
       "      <td>186.729996</td>\n",
       "      <td>186.990005</td>\n",
       "      <td>184.270004</td>\n",
       "      <td>184.919998</td>\n",
       "      <td>184.919998</td>\n",
       "      <td>101235600</td>\n",
       "    </tr>\n",
       "    <tr>\n",
       "      <th>10718</th>\n",
       "      <td>2023-06-20</td>\n",
       "      <td>184.410004</td>\n",
       "      <td>186.100006</td>\n",
       "      <td>184.410004</td>\n",
       "      <td>185.009995</td>\n",
       "      <td>185.009995</td>\n",
       "      <td>49799100</td>\n",
       "    </tr>\n",
       "    <tr>\n",
       "      <th>10719</th>\n",
       "      <td>2023-06-21</td>\n",
       "      <td>184.899994</td>\n",
       "      <td>185.410004</td>\n",
       "      <td>182.589996</td>\n",
       "      <td>183.960007</td>\n",
       "      <td>183.960007</td>\n",
       "      <td>49515700</td>\n",
       "    </tr>\n",
       "    <tr>\n",
       "      <th>10720</th>\n",
       "      <td>2023-06-22</td>\n",
       "      <td>183.740005</td>\n",
       "      <td>187.050003</td>\n",
       "      <td>183.669998</td>\n",
       "      <td>187.000000</td>\n",
       "      <td>187.000000</td>\n",
       "      <td>51245300</td>\n",
       "    </tr>\n",
       "    <tr>\n",
       "      <th>10721</th>\n",
       "      <td>2023-06-23</td>\n",
       "      <td>185.550003</td>\n",
       "      <td>187.559998</td>\n",
       "      <td>185.009995</td>\n",
       "      <td>186.679993</td>\n",
       "      <td>186.679993</td>\n",
       "      <td>53079300</td>\n",
       "    </tr>\n",
       "  </tbody>\n",
       "</table>\n",
       "<p>10722 rows × 7 columns</p>\n",
       "</div>"
      ],
      "text/plain": [
       "             Date        Open        High         Low       Close   Adj Close  \\\n",
       "0      1980-12-12    0.128348    0.128906    0.128348    0.128348    0.099584   \n",
       "1      1980-12-15    0.122210    0.122210    0.121652    0.121652    0.094388   \n",
       "2      1980-12-16    0.113281    0.113281    0.112723    0.112723    0.087461   \n",
       "3      1980-12-17    0.115513    0.116071    0.115513    0.115513    0.089625   \n",
       "4      1980-12-18    0.118862    0.119420    0.118862    0.118862    0.092224   \n",
       "...           ...         ...         ...         ...         ...         ...   \n",
       "10717  2023-06-16  186.729996  186.990005  184.270004  184.919998  184.919998   \n",
       "10718  2023-06-20  184.410004  186.100006  184.410004  185.009995  185.009995   \n",
       "10719  2023-06-21  184.899994  185.410004  182.589996  183.960007  183.960007   \n",
       "10720  2023-06-22  183.740005  187.050003  183.669998  187.000000  187.000000   \n",
       "10721  2023-06-23  185.550003  187.559998  185.009995  186.679993  186.679993   \n",
       "\n",
       "          Volume  \n",
       "0      469033600  \n",
       "1      175884800  \n",
       "2      105728000  \n",
       "3       86441600  \n",
       "4       73449600  \n",
       "...          ...  \n",
       "10717  101235600  \n",
       "10718   49799100  \n",
       "10719   49515700  \n",
       "10720   51245300  \n",
       "10721   53079300  \n",
       "\n",
       "[10722 rows x 7 columns]"
      ]
     },
     "execution_count": 108,
     "metadata": {},
     "output_type": "execute_result"
    }
   ],
   "source": [
    "\n",
    "# Previamente procesado\n",
    "\n",
    "# Crear una copia del DataFrame cargado para su posterior procesamiento\n",
    "preprocessed_share_df = df.copy()\n",
    "df"
   ]
  },
  {
   "attachments": {},
   "cell_type": "markdown",
   "metadata": {},
   "source": [
    "## Data collection and validation"
   ]
  },
  {
   "attachments": {},
   "cell_type": "markdown",
   "metadata": {},
   "source": [
    "### What type of data are the variables in the data set?"
   ]
  },
  {
   "cell_type": "code",
   "execution_count": null,
   "metadata": {},
   "outputs": [
    {
     "data": {
      "text/plain": [
       "Date          object\n",
       "Open         float64\n",
       "High         float64\n",
       "Low          float64\n",
       "Close        float64\n",
       "Adj Close    float64\n",
       "Volume         int64\n",
       "dtype: object"
      ]
     },
     "execution_count": 109,
     "metadata": {},
     "output_type": "execute_result"
    }
   ],
   "source": [
    "# Data collection and validation\n",
    "\n",
    "# Tipos de datos en el conjunto de datos\n",
    "preprocessed_share_df.dtypes"
   ]
  },
  {
   "cell_type": "code",
   "execution_count": 110,
   "metadata": {},
   "outputs": [
    {
     "data": {
      "text/html": [
       "<div>\n",
       "<style scoped>\n",
       "    .dataframe tbody tr th:only-of-type {\n",
       "        vertical-align: middle;\n",
       "    }\n",
       "\n",
       "    .dataframe tbody tr th {\n",
       "        vertical-align: top;\n",
       "    }\n",
       "\n",
       "    .dataframe thead th {\n",
       "        text-align: right;\n",
       "    }\n",
       "</style>\n",
       "<table border=\"1\" class=\"dataframe\">\n",
       "  <thead>\n",
       "    <tr style=\"text-align: right;\">\n",
       "      <th></th>\n",
       "      <th>Open</th>\n",
       "      <th>High</th>\n",
       "      <th>Low</th>\n",
       "      <th>Close</th>\n",
       "      <th>Adj Close</th>\n",
       "      <th>Volume</th>\n",
       "    </tr>\n",
       "  </thead>\n",
       "  <tbody>\n",
       "    <tr>\n",
       "      <th>count</th>\n",
       "      <td>10722.000000</td>\n",
       "      <td>10722.000000</td>\n",
       "      <td>10722.000000</td>\n",
       "      <td>10722.000000</td>\n",
       "      <td>10722.000000</td>\n",
       "      <td>1.072200e+04</td>\n",
       "    </tr>\n",
       "    <tr>\n",
       "      <th>mean</th>\n",
       "      <td>18.053570</td>\n",
       "      <td>18.258038</td>\n",
       "      <td>17.856640</td>\n",
       "      <td>18.066092</td>\n",
       "      <td>17.355460</td>\n",
       "      <td>3.247330e+08</td>\n",
       "    </tr>\n",
       "    <tr>\n",
       "      <th>std</th>\n",
       "      <td>38.035402</td>\n",
       "      <td>38.486993</td>\n",
       "      <td>37.615237</td>\n",
       "      <td>38.073492</td>\n",
       "      <td>37.705297</td>\n",
       "      <td>3.371155e+08</td>\n",
       "    </tr>\n",
       "    <tr>\n",
       "      <th>min</th>\n",
       "      <td>0.049665</td>\n",
       "      <td>0.049665</td>\n",
       "      <td>0.049107</td>\n",
       "      <td>0.049107</td>\n",
       "      <td>0.038102</td>\n",
       "      <td>0.000000e+00</td>\n",
       "    </tr>\n",
       "    <tr>\n",
       "      <th>25%</th>\n",
       "      <td>0.290179</td>\n",
       "      <td>0.299107</td>\n",
       "      <td>0.283482</td>\n",
       "      <td>0.290821</td>\n",
       "      <td>0.239435</td>\n",
       "      <td>1.189004e+08</td>\n",
       "    </tr>\n",
       "    <tr>\n",
       "      <th>50%</th>\n",
       "      <td>0.495536</td>\n",
       "      <td>0.502590</td>\n",
       "      <td>0.488839</td>\n",
       "      <td>0.495536</td>\n",
       "      <td>0.411251</td>\n",
       "      <td>2.119840e+08</td>\n",
       "    </tr>\n",
       "    <tr>\n",
       "      <th>75%</th>\n",
       "      <td>17.831339</td>\n",
       "      <td>17.958482</td>\n",
       "      <td>17.680358</td>\n",
       "      <td>17.839553</td>\n",
       "      <td>15.458370</td>\n",
       "      <td>4.045237e+08</td>\n",
       "    </tr>\n",
       "    <tr>\n",
       "      <th>max</th>\n",
       "      <td>186.729996</td>\n",
       "      <td>187.559998</td>\n",
       "      <td>185.009995</td>\n",
       "      <td>187.000000</td>\n",
       "      <td>187.000000</td>\n",
       "      <td>7.421641e+09</td>\n",
       "    </tr>\n",
       "  </tbody>\n",
       "</table>\n",
       "</div>"
      ],
      "text/plain": [
       "               Open          High           Low         Close     Adj Close  \\\n",
       "count  10722.000000  10722.000000  10722.000000  10722.000000  10722.000000   \n",
       "mean      18.053570     18.258038     17.856640     18.066092     17.355460   \n",
       "std       38.035402     38.486993     37.615237     38.073492     37.705297   \n",
       "min        0.049665      0.049665      0.049107      0.049107      0.038102   \n",
       "25%        0.290179      0.299107      0.283482      0.290821      0.239435   \n",
       "50%        0.495536      0.502590      0.488839      0.495536      0.411251   \n",
       "75%       17.831339     17.958482     17.680358     17.839553     15.458370   \n",
       "max      186.729996    187.559998    185.009995    187.000000    187.000000   \n",
       "\n",
       "             Volume  \n",
       "count  1.072200e+04  \n",
       "mean   3.247330e+08  \n",
       "std    3.371155e+08  \n",
       "min    0.000000e+00  \n",
       "25%    1.189004e+08  \n",
       "50%    2.119840e+08  \n",
       "75%    4.045237e+08  \n",
       "max    7.421641e+09  "
      ]
     },
     "execution_count": 110,
     "metadata": {},
     "output_type": "execute_result"
    }
   ],
   "source": [
    "# Estadísticas descriptivas del conjunto de datos\n",
    "preprocessed_share_df.describe()"
   ]
  },
  {
   "cell_type": "code",
   "execution_count": 111,
   "metadata": {},
   "outputs": [
    {
     "name": "stdout",
     "output_type": "stream",
     "text": [
      "<class 'pandas.core.frame.DataFrame'>\n",
      "RangeIndex: 10722 entries, 0 to 10721\n",
      "Data columns (total 7 columns):\n",
      " #   Column     Non-Null Count  Dtype  \n",
      "---  ------     --------------  -----  \n",
      " 0   Date       10722 non-null  object \n",
      " 1   Open       10722 non-null  float64\n",
      " 2   High       10722 non-null  float64\n",
      " 3   Low        10722 non-null  float64\n",
      " 4   Close      10722 non-null  float64\n",
      " 5   Adj Close  10722 non-null  float64\n",
      " 6   Volume     10722 non-null  int64  \n",
      "dtypes: float64(5), int64(1), object(1)\n",
      "memory usage: 586.5+ KB\n"
     ]
    }
   ],
   "source": [
    "# Información del conjunto de datos, incluyendo el tipo de datos y el recuento de valores no nulos\n",
    "preprocessed_share_df.info()"
   ]
  },
  {
   "attachments": {},
   "cell_type": "markdown",
   "metadata": {},
   "source": [
    "## How many variables of each data type do we have in the data set?"
   ]
  },
  {
   "cell_type": "code",
   "execution_count": 112,
   "metadata": {},
   "outputs": [
    {
     "data": {
      "text/plain": [
       "float64    5\n",
       "object     1\n",
       "int64      1\n",
       "dtype: int64"
      ]
     },
     "execution_count": 112,
     "metadata": {},
     "output_type": "execute_result"
    }
   ],
   "source": [
    "# Cantidad de variables de cada tipo de datos en el conjunto de datos\n",
    "preprocessed_share_df.dtypes.value_counts()"
   ]
  },
  {
   "attachments": {},
   "cell_type": "markdown",
   "metadata": {},
   "source": [
    "## How many variables and observations do we have in the data set?"
   ]
  },
  {
   "cell_type": "code",
   "execution_count": 113,
   "metadata": {},
   "outputs": [
    {
     "data": {
      "text/plain": [
       "(10722, 7)"
      ]
     },
     "execution_count": 113,
     "metadata": {},
     "output_type": "execute_result"
    }
   ],
   "source": [
    "# Cantidad de variables y observaciones en el conjunto de datos\n",
    "preprocessed_share_df.shape"
   ]
  },
  {
   "attachments": {},
   "cell_type": "markdown",
   "metadata": {},
   "source": [
    "## Are there explicit null values in the data set?"
   ]
  },
  {
   "cell_type": "code",
   "execution_count": 114,
   "metadata": {},
   "outputs": [
    {
     "data": {
      "text/plain": [
       "Date         False\n",
       "Open         False\n",
       "High         False\n",
       "Low          False\n",
       "Close        False\n",
       "Adj Close    False\n",
       "Volume       False\n",
       "dtype: bool"
      ]
     },
     "execution_count": 114,
     "metadata": {},
     "output_type": "execute_result"
    }
   ],
   "source": [
    "# Valores nulos explícitos en el conjunto de datos\n",
    "preprocessed_share_df.isnull().any()"
   ]
  },
  {
   "attachments": {},
   "cell_type": "markdown",
   "metadata": {},
   "source": [
    "## If we have observations with null values, how many do we have for each variable?"
   ]
  },
  {
   "cell_type": "code",
   "execution_count": 115,
   "metadata": {},
   "outputs": [
    {
     "data": {
      "text/plain": [
       "Date         0\n",
       "Open         0\n",
       "High         0\n",
       "Low          0\n",
       "Close        0\n",
       "Adj Close    0\n",
       "Volume       0\n",
       "dtype: int64"
      ]
     },
     "execution_count": 115,
     "metadata": {},
     "output_type": "execute_result"
    }
   ],
   "source": [
    "# Cantidad de valores nulos para cada variable\n",
    "preprocessed_share_df.isna().sum().sort_values(ascending=False)"
   ]
  },
  {
   "attachments": {},
   "cell_type": "markdown",
   "metadata": {},
   "source": [
    "## How many null values do we have in total in the data set?"
   ]
  },
  {
   "cell_type": "code",
   "execution_count": 116,
   "metadata": {},
   "outputs": [
    {
     "data": {
      "text/plain": [
       "0"
      ]
     },
     "execution_count": 116,
     "metadata": {},
     "output_type": "execute_result"
    }
   ],
   "source": [
    "\n",
    "# Cantidad total de valores nulos en el conjunto de datos\n",
    "preprocessed_share_df.isnull().sum().sum()"
   ]
  },
  {
   "attachments": {},
   "cell_type": "markdown",
   "metadata": {},
   "source": [
    "## What is the proportion of null values for each variable?"
   ]
  },
  {
   "cell_type": "code",
   "execution_count": 117,
   "metadata": {},
   "outputs": [
    {
     "data": {
      "text/plain": [
       "<seaborn.axisgrid.FacetGrid at 0x14b99dd20>"
      ]
     },
     "execution_count": 117,
     "metadata": {},
     "output_type": "execute_result"
    },
    {
     "data": {
      "image/png": "[encoded data removed]",
      "text/plain": [
       "<Figure size 1084.88x500 with 1 Axes>"
      ]
     },
     "metadata": {},
     "output_type": "display_data"
    }
   ],
   "source": [
    "# Proporción de valores nulos para cada variable\n",
    "sns.displot(data=preprocessed_share_df.isnull().melt(), y='variable', hue='value', multiple='fill', aspect=2)"
   ]
  },
  {
   "attachments": {},
   "cell_type": "markdown",
   "metadata": {},
   "source": [
    "## How can we visualize the null values in the whole data set?"
   ]
  },
  {
   "cell_type": "code",
   "execution_count": 118,
   "metadata": {},
   "outputs": [
    {
     "data": {
      "text/plain": [
       "<AxesSubplot:>"
      ]
     },
     "execution_count": 118,
     "metadata": {},
     "output_type": "execute_result"
    },
    {
     "data": {
      "image/png": "[encoded data removed]",
      "text/plain": [
       "<Figure size 640x480 with 2 Axes>"
      ]
     },
     "metadata": {},
     "output_type": "display_data"
    }
   ],
   "source": [
    "# Visualización de valores nulos en el conjunto de datos\n",
    "sns.heatmap(data=preprocessed_share_df.isnull().transpose())"
   ]
  },
  {
   "cell_type": "code",
   "execution_count": 119,
   "metadata": {},
   "outputs": [],
   "source": [
    "# Eliminar filas con valores nulos\n",
    "df = df.dropna()"
   ]
  },
  {
   "cell_type": "code",
   "execution_count": 120,
   "metadata": {},
   "outputs": [
    {
     "data": {
      "text/html": [
       "<div>\n",
       "<style scoped>\n",
       "    .dataframe tbody tr th:only-of-type {\n",
       "        vertical-align: middle;\n",
       "    }\n",
       "\n",
       "    .dataframe tbody tr th {\n",
       "        vertical-align: top;\n",
       "    }\n",
       "\n",
       "    .dataframe thead th {\n",
       "        text-align: right;\n",
       "    }\n",
       "</style>\n",
       "<table border=\"1\" class=\"dataframe\">\n",
       "  <thead>\n",
       "    <tr style=\"text-align: right;\">\n",
       "      <th></th>\n",
       "      <th>Date</th>\n",
       "      <th>Open</th>\n",
       "      <th>High</th>\n",
       "      <th>Low</th>\n",
       "      <th>Close</th>\n",
       "      <th>Adj Close</th>\n",
       "      <th>Volume</th>\n",
       "    </tr>\n",
       "  </thead>\n",
       "  <tbody>\n",
       "    <tr>\n",
       "      <th>10717</th>\n",
       "      <td>2023-06-16</td>\n",
       "      <td>186.729996</td>\n",
       "      <td>186.990005</td>\n",
       "      <td>184.270004</td>\n",
       "      <td>184.919998</td>\n",
       "      <td>184.919998</td>\n",
       "      <td>101235600</td>\n",
       "    </tr>\n",
       "    <tr>\n",
       "      <th>10718</th>\n",
       "      <td>2023-06-20</td>\n",
       "      <td>184.410004</td>\n",
       "      <td>186.100006</td>\n",
       "      <td>184.410004</td>\n",
       "      <td>185.009995</td>\n",
       "      <td>185.009995</td>\n",
       "      <td>49799100</td>\n",
       "    </tr>\n",
       "    <tr>\n",
       "      <th>10719</th>\n",
       "      <td>2023-06-21</td>\n",
       "      <td>184.899994</td>\n",
       "      <td>185.410004</td>\n",
       "      <td>182.589996</td>\n",
       "      <td>183.960007</td>\n",
       "      <td>183.960007</td>\n",
       "      <td>49515700</td>\n",
       "    </tr>\n",
       "    <tr>\n",
       "      <th>10720</th>\n",
       "      <td>2023-06-22</td>\n",
       "      <td>183.740005</td>\n",
       "      <td>187.050003</td>\n",
       "      <td>183.669998</td>\n",
       "      <td>187.000000</td>\n",
       "      <td>187.000000</td>\n",
       "      <td>51245300</td>\n",
       "    </tr>\n",
       "    <tr>\n",
       "      <th>10721</th>\n",
       "      <td>2023-06-23</td>\n",
       "      <td>185.550003</td>\n",
       "      <td>187.559998</td>\n",
       "      <td>185.009995</td>\n",
       "      <td>186.679993</td>\n",
       "      <td>186.679993</td>\n",
       "      <td>53079300</td>\n",
       "    </tr>\n",
       "  </tbody>\n",
       "</table>\n",
       "</div>"
      ],
      "text/plain": [
       "             Date        Open        High         Low       Close   Adj Close  \\\n",
       "10717  2023-06-16  186.729996  186.990005  184.270004  184.919998  184.919998   \n",
       "10718  2023-06-20  184.410004  186.100006  184.410004  185.009995  185.009995   \n",
       "10719  2023-06-21  184.899994  185.410004  182.589996  183.960007  183.960007   \n",
       "10720  2023-06-22  183.740005  187.050003  183.669998  187.000000  187.000000   \n",
       "10721  2023-06-23  185.550003  187.559998  185.009995  186.679993  186.679993   \n",
       "\n",
       "          Volume  \n",
       "10717  101235600  \n",
       "10718   49799100  \n",
       "10719   49515700  \n",
       "10720   51245300  \n",
       "10721   53079300  "
      ]
     },
     "execution_count": 120,
     "metadata": {},
     "output_type": "execute_result"
    }
   ],
   "source": [
    "# Últimas filas del DataFrame preprocesado\n",
    "preprocessed_share_df.tail()"
   ]
  },
  {
   "attachments": {},
   "cell_type": "markdown",
   "metadata": {},
   "source": [
    "### Check if any zero volumnes are available"
   ]
  },
  {
   "cell_type": "code",
   "execution_count": 121,
   "metadata": {},
   "outputs": [
    {
     "data": {
      "text/html": [
       "<div>\n",
       "<style scoped>\n",
       "    .dataframe tbody tr th:only-of-type {\n",
       "        vertical-align: middle;\n",
       "    }\n",
       "\n",
       "    .dataframe tbody tr th {\n",
       "        vertical-align: top;\n",
       "    }\n",
       "\n",
       "    .dataframe thead th {\n",
       "        text-align: right;\n",
       "    }\n",
       "</style>\n",
       "<table border=\"1\" class=\"dataframe\">\n",
       "  <thead>\n",
       "    <tr style=\"text-align: right;\">\n",
       "      <th></th>\n",
       "      <th>Date</th>\n",
       "      <th>Open</th>\n",
       "      <th>High</th>\n",
       "      <th>Low</th>\n",
       "      <th>Close</th>\n",
       "      <th>Adj Close</th>\n",
       "      <th>Volume</th>\n",
       "    </tr>\n",
       "  </thead>\n",
       "  <tbody>\n",
       "    <tr>\n",
       "      <th>165</th>\n",
       "      <td>1981-08-10</td>\n",
       "      <td>0.112723</td>\n",
       "      <td>0.112723</td>\n",
       "      <td>0.112723</td>\n",
       "      <td>0.112723</td>\n",
       "      <td>0.087461</td>\n",
       "      <td>0</td>\n",
       "    </tr>\n",
       "  </tbody>\n",
       "</table>\n",
       "</div>"
      ],
      "text/plain": [
       "           Date      Open      High       Low     Close  Adj Close  Volume\n",
       "165  1981-08-10  0.112723  0.112723  0.112723  0.112723   0.087461       0"
      ]
     },
     "execution_count": 121,
     "metadata": {},
     "output_type": "execute_result"
    }
   ],
   "source": [
    "# Verificar si hay volúmenes igual a cero\n",
    "indexZeros = preprocessed_share_df[preprocessed_share_df['Volume'] == 0].index\n",
    "df.loc[df['Volume'] == 0]"
   ]
  },
  {
   "cell_type": "code",
   "execution_count": 122,
   "metadata": {},
   "outputs": [
    {
     "name": "stderr",
     "output_type": "stream",
     "text": [
      "/var/folders/3j/6x57938974z0qwy867642sz00000gn/T/ipykernel_1913/592684507.py:1: FutureWarning: In a future version of pandas all arguments of DataFrame.drop except for the argument 'labels' will be keyword-only.\n",
      "  price = preprocessed_share_df.drop(['Open', 'High', 'Low', 'Volume', 'Adj Close'], 1)\n"
     ]
    },
    {
     "data": {
      "text/html": [
       "<div>\n",
       "<style scoped>\n",
       "    .dataframe tbody tr th:only-of-type {\n",
       "        vertical-align: middle;\n",
       "    }\n",
       "\n",
       "    .dataframe tbody tr th {\n",
       "        vertical-align: top;\n",
       "    }\n",
       "\n",
       "    .dataframe thead th {\n",
       "        text-align: right;\n",
       "    }\n",
       "</style>\n",
       "<table border=\"1\" class=\"dataframe\">\n",
       "  <thead>\n",
       "    <tr style=\"text-align: right;\">\n",
       "      <th></th>\n",
       "      <th>Date</th>\n",
       "      <th>Close</th>\n",
       "    </tr>\n",
       "  </thead>\n",
       "  <tbody>\n",
       "    <tr>\n",
       "      <th>0</th>\n",
       "      <td>1980-12-12</td>\n",
       "      <td>0.128348</td>\n",
       "    </tr>\n",
       "    <tr>\n",
       "      <th>1</th>\n",
       "      <td>1980-12-15</td>\n",
       "      <td>0.121652</td>\n",
       "    </tr>\n",
       "    <tr>\n",
       "      <th>2</th>\n",
       "      <td>1980-12-16</td>\n",
       "      <td>0.112723</td>\n",
       "    </tr>\n",
       "    <tr>\n",
       "      <th>3</th>\n",
       "      <td>1980-12-17</td>\n",
       "      <td>0.115513</td>\n",
       "    </tr>\n",
       "    <tr>\n",
       "      <th>4</th>\n",
       "      <td>1980-12-18</td>\n",
       "      <td>0.118862</td>\n",
       "    </tr>\n",
       "  </tbody>\n",
       "</table>\n",
       "</div>"
      ],
      "text/plain": [
       "         Date     Close\n",
       "0  1980-12-12  0.128348\n",
       "1  1980-12-15  0.121652\n",
       "2  1980-12-16  0.112723\n",
       "3  1980-12-17  0.115513\n",
       "4  1980-12-18  0.118862"
      ]
     },
     "execution_count": 122,
     "metadata": {},
     "output_type": "execute_result"
    }
   ],
   "source": [
    "# DataFrame sin las columnas 'Open', 'High', 'Low', 'Volume' y 'Adj Close'\n",
    "price = preprocessed_share_df.drop(['Open', 'High', 'Low', 'Volume', 'Adj Close'], axis=1)\n",
    "price.head()"
   ]
  },
  {
   "attachments": {},
   "cell_type": "markdown",
   "metadata": {},
   "source": [
    "### Plot Chart"
   ]
  },
  {
   "cell_type": "code",
   "execution_count": 123,
   "metadata": {},
   "outputs": [
    {
     "data": {
      "image/png": "[encoded data removed]",
      "text/plain": [
       "<Figure size 640x480 with 1 Axes>"
      ]
     },
     "metadata": {},
     "output_type": "display_data"
    }
   ],
   "source": [
    "# Gráfico de la columna 'Close'\n",
    "plt.style.use('seaborn-muted')\n",
    "plt.plot(price.Close);"
   ]
  },
  {
   "attachments": {},
   "cell_type": "markdown",
   "metadata": {},
   "source": [
    "## Calculate and add inticators to the DF"
   ]
  },
  {
   "cell_type": "code",
   "execution_count": 124,
   "metadata": {},
   "outputs": [
    {
     "name": "stderr",
     "output_type": "stream",
     "text": [
      "/var/folders/3j/6x57938974z0qwy867642sz00000gn/T/ipykernel_1913/1985709091.py:10: FutureWarning: The behavior of `series[i:j]` with an integer-dtype index is deprecated. In a future version, this will be treated as *label-based* indexing, consistent with e.g. `series[i]` lookups. To retain the old behavior, use `series.iloc[i:j]`. To get the future behavior, use `series.loc[i:j]`.\n",
      "  preprocessed_share_df.ta.macd(close='Close', fast=12, slow=26, signal=9, append=True)\n"
     ]
    },
    {
     "data": {
      "text/html": [
       "<div>\n",
       "<style scoped>\n",
       "    .dataframe tbody tr th:only-of-type {\n",
       "        vertical-align: middle;\n",
       "    }\n",
       "\n",
       "    .dataframe tbody tr th {\n",
       "        vertical-align: top;\n",
       "    }\n",
       "\n",
       "    .dataframe thead th {\n",
       "        text-align: right;\n",
       "    }\n",
       "</style>\n",
       "<table border=\"1\" class=\"dataframe\">\n",
       "  <thead>\n",
       "    <tr style=\"text-align: right;\">\n",
       "      <th></th>\n",
       "      <th>Date</th>\n",
       "      <th>Open</th>\n",
       "      <th>High</th>\n",
       "      <th>Low</th>\n",
       "      <th>Close</th>\n",
       "      <th>Adj Close</th>\n",
       "      <th>Volume</th>\n",
       "      <th>RSI</th>\n",
       "      <th>Average</th>\n",
       "      <th>MA40</th>\n",
       "      <th>MA80</th>\n",
       "      <th>MA160</th>\n",
       "      <th>MACD_12_26_9</th>\n",
       "      <th>MACDh_12_26_9</th>\n",
       "      <th>MACDs_12_26_9</th>\n",
       "    </tr>\n",
       "  </thead>\n",
       "  <tbody>\n",
       "    <tr>\n",
       "      <th>10717</th>\n",
       "      <td>2023-06-16</td>\n",
       "      <td>186.729996</td>\n",
       "      <td>186.990005</td>\n",
       "      <td>184.270004</td>\n",
       "      <td>184.919998</td>\n",
       "      <td>184.919998</td>\n",
       "      <td>101235600</td>\n",
       "      <td>69.891500</td>\n",
       "      <td>185.630004</td>\n",
       "      <td>174.37075</td>\n",
       "      <td>165.879500</td>\n",
       "      <td>154.218125</td>\n",
       "      <td>3.690705</td>\n",
       "      <td>0.351382</td>\n",
       "      <td>3.339322</td>\n",
       "    </tr>\n",
       "    <tr>\n",
       "      <th>10718</th>\n",
       "      <td>2023-06-20</td>\n",
       "      <td>184.410004</td>\n",
       "      <td>186.100006</td>\n",
       "      <td>184.410004</td>\n",
       "      <td>185.009995</td>\n",
       "      <td>185.009995</td>\n",
       "      <td>49799100</td>\n",
       "      <td>70.043130</td>\n",
       "      <td>185.255005</td>\n",
       "      <td>174.87050</td>\n",
       "      <td>166.324625</td>\n",
       "      <td>154.469437</td>\n",
       "      <td>3.675517</td>\n",
       "      <td>0.268956</td>\n",
       "      <td>3.406561</td>\n",
       "    </tr>\n",
       "    <tr>\n",
       "      <th>10719</th>\n",
       "      <td>2023-06-21</td>\n",
       "      <td>184.899994</td>\n",
       "      <td>185.410004</td>\n",
       "      <td>182.589996</td>\n",
       "      <td>183.960007</td>\n",
       "      <td>183.960007</td>\n",
       "      <td>49515700</td>\n",
       "      <td>65.874865</td>\n",
       "      <td>184.000000</td>\n",
       "      <td>175.33625</td>\n",
       "      <td>166.790250</td>\n",
       "      <td>154.645812</td>\n",
       "      <td>3.537972</td>\n",
       "      <td>0.105129</td>\n",
       "      <td>3.432844</td>\n",
       "    </tr>\n",
       "    <tr>\n",
       "      <th>10720</th>\n",
       "      <td>2023-06-22</td>\n",
       "      <td>183.740005</td>\n",
       "      <td>187.050003</td>\n",
       "      <td>183.669998</td>\n",
       "      <td>187.000000</td>\n",
       "      <td>187.000000</td>\n",
       "      <td>51245300</td>\n",
       "      <td>71.215795</td>\n",
       "      <td>185.360001</td>\n",
       "      <td>175.91700</td>\n",
       "      <td>167.278750</td>\n",
       "      <td>154.856187</td>\n",
       "      <td>3.632397</td>\n",
       "      <td>0.159643</td>\n",
       "      <td>3.472754</td>\n",
       "    </tr>\n",
       "    <tr>\n",
       "      <th>10721</th>\n",
       "      <td>2023-06-23</td>\n",
       "      <td>185.550003</td>\n",
       "      <td>187.559998</td>\n",
       "      <td>185.009995</td>\n",
       "      <td>186.679993</td>\n",
       "      <td>186.679993</td>\n",
       "      <td>53079300</td>\n",
       "      <td>69.974279</td>\n",
       "      <td>186.284997</td>\n",
       "      <td>176.49000</td>\n",
       "      <td>167.769625</td>\n",
       "      <td>155.081375</td>\n",
       "      <td>3.639454</td>\n",
       "      <td>0.133360</td>\n",
       "      <td>3.506094</td>\n",
       "    </tr>\n",
       "  </tbody>\n",
       "</table>\n",
       "</div>"
      ],
      "text/plain": [
       "             Date        Open        High         Low       Close   Adj Close  \\\n",
       "10717  2023-06-16  186.729996  186.990005  184.270004  184.919998  184.919998   \n",
       "10718  2023-06-20  184.410004  186.100006  184.410004  185.009995  185.009995   \n",
       "10719  2023-06-21  184.899994  185.410004  182.589996  183.960007  183.960007   \n",
       "10720  2023-06-22  183.740005  187.050003  183.669998  187.000000  187.000000   \n",
       "10721  2023-06-23  185.550003  187.559998  185.009995  186.679993  186.679993   \n",
       "\n",
       "          Volume        RSI     Average       MA40        MA80       MA160  \\\n",
       "10717  101235600  69.891500  185.630004  174.37075  165.879500  154.218125   \n",
       "10718   49799100  70.043130  185.255005  174.87050  166.324625  154.469437   \n",
       "10719   49515700  65.874865  184.000000  175.33625  166.790250  154.645812   \n",
       "10720   51245300  71.215795  185.360001  175.91700  167.278750  154.856187   \n",
       "10721   53079300  69.974279  186.284997  176.49000  167.769625  155.081375   \n",
       "\n",
       "       MACD_12_26_9  MACDh_12_26_9  MACDs_12_26_9  \n",
       "10717      3.690705       0.351382       3.339322  \n",
       "10718      3.675517       0.268956       3.406561  \n",
       "10719      3.537972       0.105129       3.432844  \n",
       "10720      3.632397       0.159643       3.472754  \n",
       "10721      3.639454       0.133360       3.506094  "
      ]
     },
     "execution_count": 124,
     "metadata": {},
     "output_type": "execute_result"
    }
   ],
   "source": [
    "import numpy as np\n",
    "import pandas_ta as ta\n",
    "\n",
    "# Cálculo del indicador RSI\n",
    "preprocessed_share_df['RSI'] = preprocessed_share_df.ta.rsi()\n",
    "\n",
    "# Cálculo del promedio\n",
    "preprocessed_share_df['Average'] = preprocessed_share_df.ta.midprice(length=1)\n",
    "\n",
    "# Cálculo de las medias móviles\n",
    "preprocessed_share_df['MA40'] = preprocessed_share_df.ta.sma(length=40)\n",
    "preprocessed_share_df['MA80'] = preprocessed_share_df.ta.sma(length=80)\n",
    "preprocessed_share_df['MA160'] = preprocessed_share_df.ta.sma(length=160)\n",
    "\n",
    "# Cálculo del MACD\n",
    "preprocessed_share_df.ta.macd(close='Close', fast=12, slow=26, signal=9, append=True)\n",
    "\n",
    "# Últimas filas del DataFrame con los indicadores calculados\n",
    "preprocessed_share_df.tail()"
   ]
  },
  {
   "cell_type": "code",
   "execution_count": 125,
   "metadata": {},
   "outputs": [
    {
     "data": {
      "text/html": [
       "<div>\n",
       "<style scoped>\n",
       "    .dataframe tbody tr th:only-of-type {\n",
       "        vertical-align: middle;\n",
       "    }\n",
       "\n",
       "    .dataframe tbody tr th {\n",
       "        vertical-align: top;\n",
       "    }\n",
       "\n",
       "    .dataframe thead th {\n",
       "        text-align: right;\n",
       "    }\n",
       "</style>\n",
       "<table border=\"1\" class=\"dataframe\">\n",
       "  <thead>\n",
       "    <tr style=\"text-align: right;\">\n",
       "      <th></th>\n",
       "      <th>Date</th>\n",
       "      <th>Open</th>\n",
       "      <th>High</th>\n",
       "      <th>Low</th>\n",
       "      <th>Close</th>\n",
       "      <th>Adj Close</th>\n",
       "      <th>Volume</th>\n",
       "      <th>RSI</th>\n",
       "      <th>Average</th>\n",
       "      <th>MA40</th>\n",
       "      <th>MA80</th>\n",
       "      <th>MA160</th>\n",
       "      <th>MACD_12_26_9</th>\n",
       "      <th>MACDh_12_26_9</th>\n",
       "      <th>MACDs_12_26_9</th>\n",
       "    </tr>\n",
       "  </thead>\n",
       "  <tbody>\n",
       "    <tr>\n",
       "      <th>10717</th>\n",
       "      <td>2023-06-16</td>\n",
       "      <td>186.729996</td>\n",
       "      <td>186.990005</td>\n",
       "      <td>184.270004</td>\n",
       "      <td>184.919998</td>\n",
       "      <td>184.919998</td>\n",
       "      <td>101235600</td>\n",
       "      <td>69.891500</td>\n",
       "      <td>185.630004</td>\n",
       "      <td>174.37075</td>\n",
       "      <td>165.879500</td>\n",
       "      <td>154.218125</td>\n",
       "      <td>3.690705</td>\n",
       "      <td>0.351382</td>\n",
       "      <td>3.339322</td>\n",
       "    </tr>\n",
       "    <tr>\n",
       "      <th>10718</th>\n",
       "      <td>2023-06-20</td>\n",
       "      <td>184.410004</td>\n",
       "      <td>186.100006</td>\n",
       "      <td>184.410004</td>\n",
       "      <td>185.009995</td>\n",
       "      <td>185.009995</td>\n",
       "      <td>49799100</td>\n",
       "      <td>70.043130</td>\n",
       "      <td>185.255005</td>\n",
       "      <td>174.87050</td>\n",
       "      <td>166.324625</td>\n",
       "      <td>154.469437</td>\n",
       "      <td>3.675517</td>\n",
       "      <td>0.268956</td>\n",
       "      <td>3.406561</td>\n",
       "    </tr>\n",
       "    <tr>\n",
       "      <th>10719</th>\n",
       "      <td>2023-06-21</td>\n",
       "      <td>184.899994</td>\n",
       "      <td>185.410004</td>\n",
       "      <td>182.589996</td>\n",
       "      <td>183.960007</td>\n",
       "      <td>183.960007</td>\n",
       "      <td>49515700</td>\n",
       "      <td>65.874865</td>\n",
       "      <td>184.000000</td>\n",
       "      <td>175.33625</td>\n",
       "      <td>166.790250</td>\n",
       "      <td>154.645812</td>\n",
       "      <td>3.537972</td>\n",
       "      <td>0.105129</td>\n",
       "      <td>3.432844</td>\n",
       "    </tr>\n",
       "    <tr>\n",
       "      <th>10720</th>\n",
       "      <td>2023-06-22</td>\n",
       "      <td>183.740005</td>\n",
       "      <td>187.050003</td>\n",
       "      <td>183.669998</td>\n",
       "      <td>187.000000</td>\n",
       "      <td>187.000000</td>\n",
       "      <td>51245300</td>\n",
       "      <td>71.215795</td>\n",
       "      <td>185.360001</td>\n",
       "      <td>175.91700</td>\n",
       "      <td>167.278750</td>\n",
       "      <td>154.856187</td>\n",
       "      <td>3.632397</td>\n",
       "      <td>0.159643</td>\n",
       "      <td>3.472754</td>\n",
       "    </tr>\n",
       "    <tr>\n",
       "      <th>10721</th>\n",
       "      <td>2023-06-23</td>\n",
       "      <td>185.550003</td>\n",
       "      <td>187.559998</td>\n",
       "      <td>185.009995</td>\n",
       "      <td>186.679993</td>\n",
       "      <td>186.679993</td>\n",
       "      <td>53079300</td>\n",
       "      <td>69.974279</td>\n",
       "      <td>186.284997</td>\n",
       "      <td>176.49000</td>\n",
       "      <td>167.769625</td>\n",
       "      <td>155.081375</td>\n",
       "      <td>3.639454</td>\n",
       "      <td>0.133360</td>\n",
       "      <td>3.506094</td>\n",
       "    </tr>\n",
       "  </tbody>\n",
       "</table>\n",
       "</div>"
      ],
      "text/plain": [
       "             Date        Open        High         Low       Close   Adj Close  \\\n",
       "10717  2023-06-16  186.729996  186.990005  184.270004  184.919998  184.919998   \n",
       "10718  2023-06-20  184.410004  186.100006  184.410004  185.009995  185.009995   \n",
       "10719  2023-06-21  184.899994  185.410004  182.589996  183.960007  183.960007   \n",
       "10720  2023-06-22  183.740005  187.050003  183.669998  187.000000  187.000000   \n",
       "10721  2023-06-23  185.550003  187.559998  185.009995  186.679993  186.679993   \n",
       "\n",
       "          Volume        RSI     Average       MA40        MA80       MA160  \\\n",
       "10717  101235600  69.891500  185.630004  174.37075  165.879500  154.218125   \n",
       "10718   49799100  70.043130  185.255005  174.87050  166.324625  154.469437   \n",
       "10719   49515700  65.874865  184.000000  175.33625  166.790250  154.645812   \n",
       "10720   51245300  71.215795  185.360001  175.91700  167.278750  154.856187   \n",
       "10721   53079300  69.974279  186.284997  176.49000  167.769625  155.081375   \n",
       "\n",
       "       MACD_12_26_9  MACDh_12_26_9  MACDs_12_26_9  \n",
       "10717      3.690705       0.351382       3.339322  \n",
       "10718      3.675517       0.268956       3.406561  \n",
       "10719      3.537972       0.105129       3.432844  \n",
       "10720      3.632397       0.159643       3.472754  \n",
       "10721      3.639454       0.133360       3.506094  "
      ]
     },
     "execution_count": 125,
     "metadata": {},
     "output_type": "execute_result"
    }
   ],
   "source": [
    "# Mostrar todas las columnas del DataFrame\n",
    "pd.set_option('display.max_columns', None)\n",
    "preprocessed_share_df.tail()"
   ]
  }
 ],
 "metadata": {
  "kernelspec": {
   "display_name": "Python 3",
   "language": "python",
   "name": "python3"
  },
  "language_info": {
   "codemirror_mode": {
    "name": "ipython",
    "version": 3
   },
   "file_extension": ".py",
   "mimetype": "text/x-python",
   "name": "python",
   "nbconvert_exporter": "python",
   "pygments_lexer": "ipython3",
   "version": "3.10.8"
  },
  "orig_nbformat": 4
 },
 "nbformat": 4,
 "nbformat_minor": 2
}
